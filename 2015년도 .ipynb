{
 "cells": [
  {
   "cell_type": "markdown",
   "metadata": {},
   "source": [
    "### 1회\n",
    "#### 1. 단일집단 사후실험설계의 특징을 간략히 설명하고 장단점을 쓰시오."
   ]
  },
  {
   "cell_type": "markdown",
   "metadata": {},
   "source": [
    "- 통제집단을 따로 두지 않고 실험집단에만 실험 처리를 한 후 어느 정도 시간이 지난 후에 이 실험의 효과를 측정하는 방법으로 어떤 실험으로 인해 야기되는 구체적인 변화를 분석하기 보다는 탐색적 목적을 위해 사용하는 실험 설계이다.\n",
    "- 장점: 실험 설계가 용이하다. / 두 변인 간의 단순 관계 파악이 용이하다. / 독립 변수 조작에 따른 변화의 관찰이 제한된 경우 사용 가능하다.\n",
    "- 단점: 외적, 내적 타당도가 낮다. / 외생변수의 통제가 불가능하다. / 분석 결과를 일반화할 수 없다."
   ]
  },
  {
   "cell_type": "markdown",
   "metadata": {},
   "source": [
    "#### 2. 집단 조사의 의미를 설명하고 장단점을 쓰시오."
   ]
  },
  {
   "cell_type": "markdown",
   "metadata": {},
   "source": [
    "- 연구 대상을 개별적으로 만나는 것이 아니라 집단적으로 모아놓고 설문지를 배부하여 대상자들이 직접 기입하게 하는 방식\n",
    "- 장점: 시간과 비용을 절감한다. / 조사의 설명이나 조건을 똑같이 할 수 있어서 동질성 확보 / 필요 시 응답자와 직접 대화할 수 있기 때문에 질문에 대한 오류를 줄일 수 있다.\n",
    "- 단점: 응답자 집합시키는 것이 어렵기 때문에 특수한 조사에서만 가능하다. / 응답자들의 개인차를 무시하기 때문에 조사 자체에 타당도가 낮아진다. / 응답자들이 한 곳에 모여 있기 때문에 통제가 용이하지 않다.\n"
   ]
  },
  {
   "cell_type": "markdown",
   "metadata": {},
   "source": [
    "#### 3. 신뢰성을 향상시키기 위한 방법 5가지"
   ]
  },
  {
   "cell_type": "markdown",
   "metadata": {},
   "source": [
    "- 개념: 측정 도구가 측정하고자 하는 현상을 일관성있게 측정하는 능력으로, 어떤 측정 도구를 동일한 현상에 반복 적용하여 동일한 결과를 얻게 되는 정도를 말한다.\n",
    "- 방법 (다모일 대표측)\n",
    "    - 다수의 측정 항목 \n",
    "    - 측정 도구의 모호성 제거\n",
    "    - 측정의 일관성 유지\n",
    "    - 대조적인 항목 비교\n",
    "    - 표준화된 측정 도구 이용\n",
    "    - 측정자가 무관심하거나 잘 모르는 내용은 측정하지 않는다."
   ]
  },
  {
   "cell_type": "markdown",
   "metadata": {},
   "source": [
    "#### 4. 변수의 개념적 정의와 조작적 정의를 예를 들어 설명하시오.\n",
    "- 개념적 정의: 하나의 개념을 정의하기 위해 다른 개념을 이용하여 묘사하는 것이다.\n",
    "- 조작적 정의: 추상적인 개념들은 경험적, 실증적으로 **측정 가능하도록 구체화**한 것이다.\n",
    "- 예: 지능은 개념적 정의에서 문제해결 능력이라고 정의할 수 있고, 조작적 정의에서는 측정이 가능한 IQ 검사에 의한 점수로 정의할 수 있다."
   ]
  },
  {
   "cell_type": "markdown",
   "metadata": {},
   "source": [
    "#### 5. 단순무작위표본추출법을 실제조사에 활용하기 쉽지 않은 이유 세 가지"
   ]
  },
  {
   "cell_type": "markdown",
   "metadata": {},
   "source": [
    "(노오크)\n",
    "- 현실적으로 많은 노력이 필요하다.\n",
    "- 동일한 표본크기에서 층화추출법보다 표본오차가 크다.\n",
    "- 비교적 표본의 크기가 커야 한다."
   ]
  },
  {
   "cell_type": "markdown",
   "metadata": {},
   "source": [
    "#### 6. 체계적 오차와 비체계적 오차의 의미를 쓰시오."
   ]
  },
  {
   "cell_type": "markdown",
   "metadata": {},
   "source": [
    "- 체계적 오차: 편향이라고도 하며 어떠한 영향이 측정대상에 체계적으로 미침으로써 일정한 방향성을 갖는 오차로 측정의 타당성과 관련이 있다. \n",
    "\n",
    "- 비체계적 오차: 측정 과정에서 우연히 또는 일시적으로 발생하는 불규칙적인 오차로 측정의 신뢰성과 관련이 있다."
   ]
  },
  {
   "cell_type": "markdown",
   "metadata": {},
   "source": [
    "#### 7. 확률 표집과 비확률표집의 특징을 비교 설명하시오. 비확률표집 네 가지를 쓰고 각각 설명하시오. "
   ]
  },
  {
   "cell_type": "code",
   "execution_count": null,
   "metadata": {},
   "outputs": [],
   "source": []
  },
  {
   "cell_type": "code",
   "execution_count": null,
   "metadata": {},
   "outputs": [],
   "source": []
  },
  {
   "cell_type": "code",
   "execution_count": null,
   "metadata": {},
   "outputs": [],
   "source": []
  },
  {
   "cell_type": "code",
   "execution_count": null,
   "metadata": {},
   "outputs": [],
   "source": []
  }
 ],
 "metadata": {
  "kernelspec": {
   "display_name": "Python 3",
   "language": "python",
   "name": "python3"
  },
  "language_info": {
   "codemirror_mode": {
    "name": "ipython",
    "version": 3
   },
   "file_extension": ".py",
   "mimetype": "text/x-python",
   "name": "python",
   "nbconvert_exporter": "python",
   "pygments_lexer": "ipython3",
   "version": "3.7.6"
  }
 },
 "nbformat": 4,
 "nbformat_minor": 4
}
